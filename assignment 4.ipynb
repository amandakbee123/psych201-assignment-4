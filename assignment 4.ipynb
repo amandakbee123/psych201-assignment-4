{
 "cells": [
  {
   "cell_type": "markdown",
   "id": "46178d60",
   "metadata": {},
   "source": [
    "One time, when I was twelve years old, I was walking in my house at 11pm. Then, sudeenly, I felt a strange sensation that wacked my ear. It was like one of those fan propellers pressed up at your ear. In a flash, I saw in front of me a big, wingspan of a bat. No one in my house believed me when I told them that a bat flew in through our chimney."
   ]
  },
  {
   "cell_type": "code",
   "execution_count": 1,
   "id": "6c7bf658",
   "metadata": {},
   "outputs": [
    {
     "data": {
      "text/html": [
       "\n",
       "<video width=\"320\" height=\"240\" controls>\n",
       "  <source src=\"https://github.com/amandakbee123/psych201-assignment-4/raw/main/IMG_4165.mov\" type=\"video/mp4\">\n",
       "</video>\n"
      ],
      "text/plain": [
       "<IPython.core.display.HTML object>"
      ]
     },
     "execution_count": 1,
     "metadata": {},
     "output_type": "execute_result"
    }
   ],
   "source": [
    "from IPython.display import HTML\n",
    "HTML(\"\"\"\n",
    "<video width=\"320\" height=\"240\" controls>\n",
    "  <source src=\"https://github.com/amandakbee123/psych201-assignment-4/raw/main/IMG_4165.mov\" type=\"video/mp4\">\n",
    "</video>\n",
    "\"\"\")\n"
   ]
  },
  {
   "cell_type": "code",
   "execution_count": null,
   "id": "cd387520",
   "metadata": {},
   "outputs": [],
   "source": []
  }
 ],
 "metadata": {
  "kernelspec": {
   "display_name": "Python 3 (ipykernel)",
   "language": "python",
   "name": "python3"
  },
  "language_info": {
   "codemirror_mode": {
    "name": "ipython",
    "version": 3
   },
   "file_extension": ".py",
   "mimetype": "text/x-python",
   "name": "python",
   "nbconvert_exporter": "python",
   "pygments_lexer": "ipython3",
   "version": "3.10.9"
  }
 },
 "nbformat": 4,
 "nbformat_minor": 5
}
